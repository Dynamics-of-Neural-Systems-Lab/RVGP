{
 "cells": [
  {
   "cell_type": "code",
   "execution_count": null,
   "id": "6551701b-1ac0-490d-b00c-672d2e79dcce",
   "metadata": {},
   "outputs": [],
   "source": [
    "%matplotlib ipympl\n",
    "%load_ext autoreload\n",
    "%autoreload 2"
   ]
  },
  {
   "cell_type": "code",
   "execution_count": null,
   "id": "766c49f2-d1c6-4247-8c91-d56ac65cc08c",
   "metadata": {},
   "outputs": [],
   "source": [
    "import os\n",
    "import numpy as np\n",
    "import glob\n",
    "import pickle \n",
    "from modules import LatentLowRankRNN, train\n",
    "from RNN_helpers import plot_field_noscalings, load_data, plot_trajectories\n",
    "import yaml\n",
    "import matplotlib.pyplot as plt"
   ]
  },
  {
   "cell_type": "code",
   "execution_count": null,
   "id": "ce595217-a48d-4b00-bb8c-081c1b6a5309",
   "metadata": {},
   "outputs": [],
   "source": [
    "params = yaml.safe_load(open('../data_parameters.yml','r'))"
   ]
  },
  {
   "cell_type": "code",
   "execution_count": null,
   "id": "b2745251-dc2d-427a-a040-4b41bba9c79f",
   "metadata": {},
   "outputs": [],
   "source": [
    "files = glob.glob(params['out_folder'] + '/*.pkl')\n",
    "data_file = [f for f in files if params['session'] in f and 'avg' not in f and 'maze' in f and '-99' not in f]\n",
    "data_file = np.sort(data_file)\n",
    "pipeline = pickle.load(open(os.path.join(params['out_folder'], params['session'] + '_PCA_3dim.pkl'),'rb'))\n",
    "\n",
    "x_train, dx_train, label_train = load_data(data_file,\n",
    "                                           params, \n",
    "                                           mazes=[2],\n",
    "                                           paths=[1],\n",
    "                                           pipeline=pipeline, \n",
    "                                           smooth_window=params['smooth_window'], \n",
    "                                           interval=params['sampling_interval'])"
   ]
  },
  {
   "cell_type": "code",
   "execution_count": null,
   "id": "b57781af-7566-4ab7-ad2d-ad39d0d01afe",
   "metadata": {},
   "outputs": [],
   "source": [
    "noise_std = 5e-2\n",
    "alpha = 0.2\n",
    "rank = 2"
   ]
  },
  {
   "cell_type": "code",
   "execution_count": null,
   "id": "b2a84055-f585-4a99-8c6e-e6bf6dacb2e4",
   "metadata": {},
   "outputs": [],
   "source": [
    "input_size = x_train.shape[-1]\n",
    "net = LatentLowRankRNN(input_size, [16,32,512], rank=rank, alpha=alpha, noise_std=noise_std)\n",
    "train(net, x_train, epochs=500, batch_size=32, lr=0.01)"
   ]
  },
  {
   "cell_type": "code",
   "execution_count": null,
   "id": "5ee153e7-e6fc-4d51-a3b4-3b864e6e5a81",
   "metadata": {},
   "outputs": [],
   "source": []
  },
  {
   "cell_type": "code",
   "execution_count": null,
   "id": "49ec6cb0-2818-4b03-84ab-4251ec9295d1",
   "metadata": {},
   "outputs": [],
   "source": [
    "x_ = x_train[:,[0],:].to(device=net.m.device)\n",
    "x, _, _ = net(x_, seq_len=x_train.shape[1])\n",
    "plt.figure()\n",
    "plt.plot(x[0].detach().cpu().numpy(), 'g--')\n",
    "plt.plot(x_train[0],'r')\n",
    "plt.plot()"
   ]
  },
  {
   "cell_type": "code",
   "execution_count": null,
   "id": "fa367180-0ae7-4452-a355-10c3c7bceea8",
   "metadata": {},
   "outputs": [],
   "source": [
    "ax, _ = plot_field_noscalings(net, input=None, xmin=-5, xmax=5, ymin=-5, ymax=5, add_fixed_points=False)\n",
    "\n",
    "_, _, z = net(x_train[0][0:2].unsqueeze(1).to(device=net.m.device))\n",
    "plot_trajectories(net, z.detach().cpu().numpy() , ax, n_traj=2, style=\"-\", c=\"C0\")"
   ]
  },
  {
   "cell_type": "code",
   "execution_count": null,
   "id": "c8e43502-216f-47cc-a976-f4f037354ea0",
   "metadata": {},
   "outputs": [],
   "source": []
  }
 ],
 "metadata": {
  "kernelspec": {
   "display_name": "Python 3 (ipykernel)",
   "language": "python",
   "name": "python3"
  },
  "language_info": {
   "codemirror_mode": {
    "name": "ipython",
    "version": 3
   },
   "file_extension": ".py",
   "mimetype": "text/x-python",
   "name": "python",
   "nbconvert_exporter": "python",
   "pygments_lexer": "ipython3",
   "version": "3.9.12"
  }
 },
 "nbformat": 4,
 "nbformat_minor": 5
}
